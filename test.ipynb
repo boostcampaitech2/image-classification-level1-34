{
 "cells": [
  {
   "cell_type": "code",
   "execution_count": 1,
   "source": [
    "import pandas as pd\n",
    "\n",
    "file = pd.read_csv('./Input/data/no_mask/no_mask.txt')\n",
    "file.head()"
   ],
   "outputs": [
    {
     "output_type": "execute_result",
     "data": {
      "text/plain": [
       "                                                   user_id\\toriginal_image\\tface_id\\tage\\tgender\\tx\\ty\\tdx\\tdy\\ttilt_ang\\tfiducial_yaw_angle\\tfiducial_score\n",
       "30601258@N03\\t10399646885_67c7d20df9_o.jpg\\t1\\t(25           32)\\tf\\t0\\t414\\t1086\\t1383\\t-115\\t30\\t17                                                       \n",
       "30601258@N03\\t10424815813_e94629b1ec_o.jpg\\t2\\t(25               32)\\tm\\t301\\t105\\t640\\t641\\t0\\t0\\t94                                                       \n",
       "30601258@N03\\t10437979845_5985be4b26_o.jpg\\t1\\t(25          32)\\tf\\t2395\\t876\\t771\\t771\\t175\\t-30\\t74                                                       \n",
       "30601258@N03\\t10437979845_5985be4b26_o.jpg\\t3\\t(25            32)\\tm\\t752\\t1255\\t484\\t485\\t180\\t0\\t47                                                       \n",
       "30601258@N03\\t11816644924_075c3d8d59_o.jpg\\t2\\t(25              32)\\tm\\t175\\t80\\t769\\t768\\t-75\\t0\\t34                                                       "
      ],
      "text/html": [
       "<div>\n",
       "<style scoped>\n",
       "    .dataframe tbody tr th:only-of-type {\n",
       "        vertical-align: middle;\n",
       "    }\n",
       "\n",
       "    .dataframe tbody tr th {\n",
       "        vertical-align: top;\n",
       "    }\n",
       "\n",
       "    .dataframe thead th {\n",
       "        text-align: right;\n",
       "    }\n",
       "</style>\n",
       "<table border=\"1\" class=\"dataframe\">\n",
       "  <thead>\n",
       "    <tr style=\"text-align: right;\">\n",
       "      <th></th>\n",
       "      <th>user_id\\toriginal_image\\tface_id\\tage\\tgender\\tx\\ty\\tdx\\tdy\\ttilt_ang\\tfiducial_yaw_angle\\tfiducial_score</th>\n",
       "    </tr>\n",
       "  </thead>\n",
       "  <tbody>\n",
       "    <tr>\n",
       "      <th>30601258@N03\\t10399646885_67c7d20df9_o.jpg\\t1\\t(25</th>\n",
       "      <td>32)\\tf\\t0\\t414\\t1086\\t1383\\t-115\\t30\\t17</td>\n",
       "    </tr>\n",
       "    <tr>\n",
       "      <th>30601258@N03\\t10424815813_e94629b1ec_o.jpg\\t2\\t(25</th>\n",
       "      <td>32)\\tm\\t301\\t105\\t640\\t641\\t0\\t0\\t94</td>\n",
       "    </tr>\n",
       "    <tr>\n",
       "      <th>30601258@N03\\t10437979845_5985be4b26_o.jpg\\t1\\t(25</th>\n",
       "      <td>32)\\tf\\t2395\\t876\\t771\\t771\\t175\\t-30\\t74</td>\n",
       "    </tr>\n",
       "    <tr>\n",
       "      <th>30601258@N03\\t10437979845_5985be4b26_o.jpg\\t3\\t(25</th>\n",
       "      <td>32)\\tm\\t752\\t1255\\t484\\t485\\t180\\t0\\t47</td>\n",
       "    </tr>\n",
       "    <tr>\n",
       "      <th>30601258@N03\\t11816644924_075c3d8d59_o.jpg\\t2\\t(25</th>\n",
       "      <td>32)\\tm\\t175\\t80\\t769\\t768\\t-75\\t0\\t34</td>\n",
       "    </tr>\n",
       "  </tbody>\n",
       "</table>\n",
       "</div>"
      ]
     },
     "metadata": {},
     "execution_count": 1
    }
   ],
   "metadata": {}
  },
  {
   "cell_type": "code",
   "execution_count": 9,
   "source": [
    "import pandas as pd\n",
    "import csv\n",
    "\n",
    "file = pd.read_csv('./Input/data/no_mask/no_mask.txt', delimiter = '\\t')\n",
    "file.head()"
   ],
   "outputs": [],
   "metadata": {}
  }
 ],
 "metadata": {
  "orig_nbformat": 4,
  "language_info": {
   "name": "python",
   "version": "3.8.5",
   "mimetype": "text/x-python",
   "codemirror_mode": {
    "name": "ipython",
    "version": 3
   },
   "pygments_lexer": "ipython3",
   "nbconvert_exporter": "python",
   "file_extension": ".py"
  },
  "kernelspec": {
   "name": "python3",
   "display_name": "Python 3.8.5 64-bit ('base': conda)"
  },
  "interpreter": {
   "hash": "98b0a9b7b4eaaa670588a142fd0a9b87eaafe866f1db4228be72b4211d12040f"
  }
 },
 "nbformat": 4,
 "nbformat_minor": 2
}