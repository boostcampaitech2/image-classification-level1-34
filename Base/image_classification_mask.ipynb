{
 "cells": [
  {
   "cell_type": "markdown",
   "metadata": {},
   "source": [
    "# 마스크 착용 상태 분류\n",
    "(Aistages Competition)  \n",
    "카메라로 촬영한 사람 얼굴 이미지의 마스크 착용여부를 판단하는 Task"
   ]
  },
  {
   "cell_type": "markdown",
   "metadata": {},
   "source": [
    "## 1. 대회 개요"
   ]
  },
  {
   "cell_type": "markdown",
   "metadata": {},
   "source": [
    "### 1.1. 배경"
   ]
  },
  {
   "cell_type": "markdown",
   "metadata": {},
   "source": [
    "<img src=\"./images/about_competition.png\" width=600px>"
   ]
  },
  {
   "cell_type": "markdown",
   "metadata": {},
   "source": [
    "### 1.2. 평가방법 (Metric)"
   ]
  },
  {
   "cell_type": "markdown",
   "metadata": {},
   "source": [
    "<img src=\"./images/about_competition2.png\" width=600px>"
   ]
  },
  {
   "cell_type": "markdown",
   "metadata": {},
   "source": [
    "### 1.3. 데이터 셋"
   ]
  },
  {
   "cell_type": "markdown",
   "metadata": {},
   "source": [
    "<img src=\"./images/sample_image.png\" width=600px/>  "
   ]
  },
  {
   "cell_type": "markdown",
   "metadata": {},
   "source": [
    "- 전체 사람 수 : 4,500명  \n",
    "- 한 사람 당 사진 갯수 : 7개 (마스크 착용 5, 미착용 1, 잘못착용 1)  \n",
    "- 이미지 크기 : (384, 512)  \n",
    "- 결과 클래스 (Label)  \n",
    "\n",
    "<img src=\"./images/label.png\" width=600px>  "
   ]
  },
  {
   "cell_type": "markdown",
   "metadata": {},
   "source": [
    "## 2. 프로젝트"
   ]
  },
  {
   "cell_type": "markdown",
   "metadata": {},
   "source": [
    "<img src=\"./images/flow.png\" width=600px>  "
   ]
  },
  {
   "cell_type": "markdown",
   "metadata": {},
   "source": [
    "- 데이터 이해\n",
    "- Dataset 생성\n",
    "- Model(Module) 생성\n",
    "- Train (학습)\n",
    "- 평가"
   ]
  },
  {
   "cell_type": "markdown",
   "metadata": {
    "tags": []
   },
   "source": [
    "### 2.1. 데이터 이해 (EDA)"
   ]
  },
  {
   "cell_type": "markdown",
   "metadata": {},
   "source": [
    "EDA과정으로 주어진 데이터의 수치나 분포등을 통해 이해하는 단계"
   ]
  },
  {
   "cell_type": "markdown",
   "metadata": {},
   "source": [
    "보다 다양한 EDA데이터는 강의를 통해 얻은 './sample_code/2_EDA.ipynb' 파일을 참고"
   ]
  },
  {
   "cell_type": "code",
   "execution_count": 1,
   "metadata": {},
   "outputs": [],
   "source": [
    "train_dir = '/opt/ml/input/data/train/'"
   ]
  },
  {
   "cell_type": "code",
   "execution_count": 2,
   "metadata": {},
   "outputs": [],
   "source": [
    "import pandas as pd\n",
    "import os"
   ]
  },
  {
   "cell_type": "code",
   "execution_count": 3,
   "metadata": {},
   "outputs": [
    {
     "data": {
      "text/html": [
       "<div>\n",
       "<style scoped>\n",
       "    .dataframe tbody tr th:only-of-type {\n",
       "        vertical-align: middle;\n",
       "    }\n",
       "\n",
       "    .dataframe tbody tr th {\n",
       "        vertical-align: top;\n",
       "    }\n",
       "\n",
       "    .dataframe thead th {\n",
       "        text-align: right;\n",
       "    }\n",
       "</style>\n",
       "<table border=\"1\" class=\"dataframe\">\n",
       "  <thead>\n",
       "    <tr style=\"text-align: right;\">\n",
       "      <th></th>\n",
       "      <th>id</th>\n",
       "      <th>gender</th>\n",
       "      <th>race</th>\n",
       "      <th>age</th>\n",
       "      <th>path</th>\n",
       "    </tr>\n",
       "  </thead>\n",
       "  <tbody>\n",
       "    <tr>\n",
       "      <th>0</th>\n",
       "      <td>000001</td>\n",
       "      <td>female</td>\n",
       "      <td>Asian</td>\n",
       "      <td>45</td>\n",
       "      <td>000001_female_Asian_45</td>\n",
       "    </tr>\n",
       "    <tr>\n",
       "      <th>1</th>\n",
       "      <td>000002</td>\n",
       "      <td>female</td>\n",
       "      <td>Asian</td>\n",
       "      <td>52</td>\n",
       "      <td>000002_female_Asian_52</td>\n",
       "    </tr>\n",
       "    <tr>\n",
       "      <th>2</th>\n",
       "      <td>000004</td>\n",
       "      <td>male</td>\n",
       "      <td>Asian</td>\n",
       "      <td>54</td>\n",
       "      <td>000004_male_Asian_54</td>\n",
       "    </tr>\n",
       "    <tr>\n",
       "      <th>3</th>\n",
       "      <td>000005</td>\n",
       "      <td>female</td>\n",
       "      <td>Asian</td>\n",
       "      <td>58</td>\n",
       "      <td>000005_female_Asian_58</td>\n",
       "    </tr>\n",
       "    <tr>\n",
       "      <th>4</th>\n",
       "      <td>000006</td>\n",
       "      <td>female</td>\n",
       "      <td>Asian</td>\n",
       "      <td>59</td>\n",
       "      <td>000006_female_Asian_59</td>\n",
       "    </tr>\n",
       "  </tbody>\n",
       "</table>\n",
       "</div>"
      ],
      "text/plain": [
       "       id  gender   race  age                    path\n",
       "0  000001  female  Asian   45  000001_female_Asian_45\n",
       "1  000002  female  Asian   52  000002_female_Asian_52\n",
       "2  000004    male  Asian   54    000004_male_Asian_54\n",
       "3  000005  female  Asian   58  000005_female_Asian_58\n",
       "4  000006  female  Asian   59  000006_female_Asian_59"
      ]
     },
     "execution_count": 3,
     "metadata": {},
     "output_type": "execute_result"
    }
   ],
   "source": [
    "df = pd.read_csv(os.path.join(train_dir, 'train.csv'))\n",
    "df.head()"
   ]
  },
  {
   "cell_type": "code",
   "execution_count": 18,
   "metadata": {},
   "outputs": [
    {
     "data": {
      "text/plain": [
       "<matplotlib.axes._subplots.AxesSubplot at 0x7eff63c95ca0>"
      ]
     },
     "execution_count": 18,
     "metadata": {},
     "output_type": "execute_result"
    },
    {
     "data": {
      "image/png": "[encoded data removed]",
      "text/plain": [
       "<Figure size 1080x720 with 1 Axes>"
      ]
     },
     "metadata": {
      "needs_background": "light"
     },
     "output_type": "display_data"
    }
   ],
   "source": [
    "# 나이 그래프\n",
    "df.age.value_counts().sort_index().plot(kind='bar', figsize=(15,10))"
   ]
  },
  {
   "cell_type": "code",
   "execution_count": 19,
   "metadata": {},
   "outputs": [
    {
     "name": "stdout",
     "output_type": "stream",
     "text": [
      "~30        1281\n",
      "30 ~ 60    1227\n",
      "60 ~        192\n",
      "Name: age_range, dtype: int64\n"
     ]
    },
    {
     "data": {
      "text/plain": [
       "<matplotlib.axes._subplots.AxesSubplot at 0x7eff6386df70>"
      ]
     },
     "execution_count": 19,
     "metadata": {},
     "output_type": "execute_result"
    },
    {
     "data": {
      "image/png": "[encoded data removed]",
      "text/plain": [
       "<Figure size 432x288 with 1 Axes>"
      ]
     },
     "metadata": {
      "needs_background": "light"
     },
     "output_type": "display_data"
    }
   ],
   "source": [
    "df['age_range'] = df['age'].apply(lambda x: '~30' if x < 30 else ('60 ~' if x >= 60 else '30 ~ 60'))\n",
    "print(df.age_range.value_counts())\n",
    "df.age_range.value_counts().plot(kind='bar')"
   ]
  },
  {
   "cell_type": "code",
   "execution_count": 59,
   "metadata": {},
   "outputs": [
    {
     "data": {
      "text/html": [
       "<div>\n",
       "<style scoped>\n",
       "    .dataframe tbody tr th:only-of-type {\n",
       "        vertical-align: middle;\n",
       "    }\n",
       "\n",
       "    .dataframe tbody tr th {\n",
       "        vertical-align: top;\n",
       "    }\n",
       "\n",
       "    .dataframe thead th {\n",
       "        text-align: right;\n",
       "    }\n",
       "</style>\n",
       "<table border=\"1\" class=\"dataframe\">\n",
       "  <thead>\n",
       "    <tr style=\"text-align: right;\">\n",
       "      <th></th>\n",
       "      <th>id</th>\n",
       "      <th>gender</th>\n",
       "      <th>race</th>\n",
       "      <th>age</th>\n",
       "      <th>path</th>\n",
       "      <th>age_range</th>\n",
       "    </tr>\n",
       "  </thead>\n",
       "  <tbody>\n",
       "    <tr>\n",
       "      <th>443</th>\n",
       "      <td>001063</td>\n",
       "      <td>female</td>\n",
       "      <td>Asian</td>\n",
       "      <td>60</td>\n",
       "      <td>001063_female_Asian_60</td>\n",
       "      <td>60 ~</td>\n",
       "    </tr>\n",
       "    <tr>\n",
       "      <th>477</th>\n",
       "      <td>001102</td>\n",
       "      <td>female</td>\n",
       "      <td>Asian</td>\n",
       "      <td>60</td>\n",
       "      <td>001102_female_Asian_60</td>\n",
       "      <td>60 ~</td>\n",
       "    </tr>\n",
       "    <tr>\n",
       "      <th>480</th>\n",
       "      <td>001106</td>\n",
       "      <td>female</td>\n",
       "      <td>Asian</td>\n",
       "      <td>60</td>\n",
       "      <td>001106_female_Asian_60</td>\n",
       "      <td>60 ~</td>\n",
       "    </tr>\n",
       "    <tr>\n",
       "      <th>540</th>\n",
       "      <td>001172</td>\n",
       "      <td>female</td>\n",
       "      <td>Asian</td>\n",
       "      <td>60</td>\n",
       "      <td>001172_female_Asian_60</td>\n",
       "      <td>60 ~</td>\n",
       "    </tr>\n",
       "    <tr>\n",
       "      <th>671</th>\n",
       "      <td>001363</td>\n",
       "      <td>female</td>\n",
       "      <td>Asian</td>\n",
       "      <td>60</td>\n",
       "      <td>001363_female_Asian_60</td>\n",
       "      <td>60 ~</td>\n",
       "    </tr>\n",
       "    <tr>\n",
       "      <th>...</th>\n",
       "      <td>...</td>\n",
       "      <td>...</td>\n",
       "      <td>...</td>\n",
       "      <td>...</td>\n",
       "      <td>...</td>\n",
       "      <td>...</td>\n",
       "    </tr>\n",
       "    <tr>\n",
       "      <th>2161</th>\n",
       "      <td>005446</td>\n",
       "      <td>female</td>\n",
       "      <td>Asian</td>\n",
       "      <td>60</td>\n",
       "      <td>005446_female_Asian_60</td>\n",
       "      <td>60 ~</td>\n",
       "    </tr>\n",
       "    <tr>\n",
       "      <th>2168</th>\n",
       "      <td>005453</td>\n",
       "      <td>female</td>\n",
       "      <td>Asian</td>\n",
       "      <td>60</td>\n",
       "      <td>005453_female_Asian_60</td>\n",
       "      <td>60 ~</td>\n",
       "    </tr>\n",
       "    <tr>\n",
       "      <th>2175</th>\n",
       "      <td>005461</td>\n",
       "      <td>female</td>\n",
       "      <td>Asian</td>\n",
       "      <td>60</td>\n",
       "      <td>005461_female_Asian_60</td>\n",
       "      <td>60 ~</td>\n",
       "    </tr>\n",
       "    <tr>\n",
       "      <th>2209</th>\n",
       "      <td>005504</td>\n",
       "      <td>female</td>\n",
       "      <td>Asian</td>\n",
       "      <td>60</td>\n",
       "      <td>005504_female_Asian_60</td>\n",
       "      <td>60 ~</td>\n",
       "    </tr>\n",
       "    <tr>\n",
       "      <th>2217</th>\n",
       "      <td>005515</td>\n",
       "      <td>female</td>\n",
       "      <td>Asian</td>\n",
       "      <td>60</td>\n",
       "      <td>005515_female_Asian_60</td>\n",
       "      <td>60 ~</td>\n",
       "    </tr>\n",
       "  </tbody>\n",
       "</table>\n",
       "<p>109 rows × 6 columns</p>\n",
       "</div>"
      ],
      "text/plain": [
       "          id  gender   race  age                    path age_range\n",
       "443   001063  female  Asian   60  001063_female_Asian_60      60 ~\n",
       "477   001102  female  Asian   60  001102_female_Asian_60      60 ~\n",
       "480   001106  female  Asian   60  001106_female_Asian_60      60 ~\n",
       "540   001172  female  Asian   60  001172_female_Asian_60      60 ~\n",
       "671   001363  female  Asian   60  001363_female_Asian_60      60 ~\n",
       "...      ...     ...    ...  ...                     ...       ...\n",
       "2161  005446  female  Asian   60  005446_female_Asian_60      60 ~\n",
       "2168  005453  female  Asian   60  005453_female_Asian_60      60 ~\n",
       "2175  005461  female  Asian   60  005461_female_Asian_60      60 ~\n",
       "2209  005504  female  Asian   60  005504_female_Asian_60      60 ~\n",
       "2217  005515  female  Asian   60  005515_female_Asian_60      60 ~\n",
       "\n",
       "[109 rows x 6 columns]"
      ]
     },
     "execution_count": 59,
     "metadata": {},
     "output_type": "execute_result"
    }
   ],
   "source": [
    "# 나이 그래프\n",
    "#print(df.gender.value_counts())\n",
    "#df.loc[df['gender'] == 'female']['age_range'].value_counts()\n",
    "#print('------------------------------------------------------')\n",
    "#grouped = df.groupby(level=['gender', 'age_range'])\n",
    "#print(df.loc[df['gender'] == 'female']['age_range'].value_counts())\n",
    "#print(df.loc[df['gender'] == 'male']['age_range'].value_counts())\n",
    "df.loc[df['gender'] == 'female'].loc[df['age_range'] == '60 ~']"
   ]
  },
  {
   "cell_type": "markdown",
   "metadata": {},
   "source": [
    "- 위 과정을 통해 클래스 (라벨)을 분류하는데 기준이 되는 나이 분포가 고르지 않음을 알 수 있었다.  \n",
    "  => 60세의 데이터가 비교적 평균보다 많이 있지만 60세 이상의 나이가 60세만 있어 데이터의 불균형을 볼 수 있었다.  \n",
    "  => 30~60 세의 데이터가 매우 넓게 분포되어 있음을 볼 수 있었다.\n",
    "- sample_code를 보며 마스크의 색상이 단색인 경우가 대부분이다 보니 특정영역에 같은 색상으로 분포된 것을 고려  \n",
    "  => mask5 파일명의 데이터의 경우 불규칙적인 마스크 디자인을 착용한 것을 확인\n",
    "  => 마스크의 색상 또한 다양한 색으로 보임(검정, 하양, 하늘색 등등)\n",
    "- 모든 사람들이 정면을 보고 정자세로 촬영한 것으로 사람의 얼굴 영역만 추출하면 좋을 것 같음\n",
    "  => 옷, 배경 등의 영향을 줄이기 위함"
   ]
  },
  {
   "cell_type": "markdown",
   "metadata": {},
   "source": [
    "### 2.2. DataSet 만들기"
   ]
  },
  {
   "cell_type": "markdown",
   "metadata": {},
   "source": [
    "torch.utils.data의 Dataset을 상속받아 Mask DataSet을 만들기.  \n",
    "- 주어진 데이터로부터 Labeling하기 (파일명 - 마스크착용상태 / Age - 나이범위 / gendar - 성별)\n",
    "- 가능한 Augmentation 하여 데이터 늘리기"
   ]
  },
  {
   "cell_type": "markdown",
   "metadata": {},
   "source": [
    "#### 2.2.1. 주어진 데이터 Labeling하기"
   ]
  },
  {
   "cell_type": "code",
   "execution_count": 4,
   "metadata": {},
   "outputs": [],
   "source": [
    "import torch\n",
    "import pandas as pd"
   ]
  },
  {
   "cell_type": "code",
   "execution_count": 5,
   "metadata": {},
   "outputs": [
    {
     "name": "stdout",
     "output_type": "stream",
     "text": [
      "/opt/ml/input/data/train/\n"
     ]
    },
    {
     "data": {
      "text/html": [
       "<div>\n",
       "<style scoped>\n",
       "    .dataframe tbody tr th:only-of-type {\n",
       "        vertical-align: middle;\n",
       "    }\n",
       "\n",
       "    .dataframe tbody tr th {\n",
       "        vertical-align: top;\n",
       "    }\n",
       "\n",
       "    .dataframe thead th {\n",
       "        text-align: right;\n",
       "    }\n",
       "</style>\n",
       "<table border=\"1\" class=\"dataframe\">\n",
       "  <thead>\n",
       "    <tr style=\"text-align: right;\">\n",
       "      <th></th>\n",
       "      <th>id</th>\n",
       "      <th>gender</th>\n",
       "      <th>race</th>\n",
       "      <th>age</th>\n",
       "      <th>path</th>\n",
       "    </tr>\n",
       "  </thead>\n",
       "  <tbody>\n",
       "    <tr>\n",
       "      <th>0</th>\n",
       "      <td>000001</td>\n",
       "      <td>female</td>\n",
       "      <td>Asian</td>\n",
       "      <td>45</td>\n",
       "      <td>000001_female_Asian_45</td>\n",
       "    </tr>\n",
       "    <tr>\n",
       "      <th>1</th>\n",
       "      <td>000002</td>\n",
       "      <td>female</td>\n",
       "      <td>Asian</td>\n",
       "      <td>52</td>\n",
       "      <td>000002_female_Asian_52</td>\n",
       "    </tr>\n",
       "    <tr>\n",
       "      <th>2</th>\n",
       "      <td>000004</td>\n",
       "      <td>male</td>\n",
       "      <td>Asian</td>\n",
       "      <td>54</td>\n",
       "      <td>000004_male_Asian_54</td>\n",
       "    </tr>\n",
       "    <tr>\n",
       "      <th>3</th>\n",
       "      <td>000005</td>\n",
       "      <td>female</td>\n",
       "      <td>Asian</td>\n",
       "      <td>58</td>\n",
       "      <td>000005_female_Asian_58</td>\n",
       "    </tr>\n",
       "    <tr>\n",
       "      <th>4</th>\n",
       "      <td>000006</td>\n",
       "      <td>female</td>\n",
       "      <td>Asian</td>\n",
       "      <td>59</td>\n",
       "      <td>000006_female_Asian_59</td>\n",
       "    </tr>\n",
       "  </tbody>\n",
       "</table>\n",
       "</div>"
      ],
      "text/plain": [
       "       id  gender   race  age                    path\n",
       "0  000001  female  Asian   45  000001_female_Asian_45\n",
       "1  000002  female  Asian   52  000002_female_Asian_52\n",
       "2  000004    male  Asian   54    000004_male_Asian_54\n",
       "3  000005  female  Asian   58  000005_female_Asian_58\n",
       "4  000006  female  Asian   59  000006_female_Asian_59"
      ]
     },
     "execution_count": 5,
     "metadata": {},
     "output_type": "execute_result"
    }
   ],
   "source": [
    "print(train_dir)\n",
    "df = pd.read_csv(os.path.join(train_dir, 'train.csv'))\n",
    "df.head()"
   ]
  },
  {
   "cell_type": "code",
   "execution_count": 6,
   "metadata": {},
   "outputs": [
    {
     "data": {
      "text/html": [
       "<div>\n",
       "<style scoped>\n",
       "    .dataframe tbody tr th:only-of-type {\n",
       "        vertical-align: middle;\n",
       "    }\n",
       "\n",
       "    .dataframe tbody tr th {\n",
       "        vertical-align: top;\n",
       "    }\n",
       "\n",
       "    .dataframe thead th {\n",
       "        text-align: right;\n",
       "    }\n",
       "</style>\n",
       "<table border=\"1\" class=\"dataframe\">\n",
       "  <thead>\n",
       "    <tr style=\"text-align: right;\">\n",
       "      <th></th>\n",
       "      <th>id</th>\n",
       "      <th>gender</th>\n",
       "      <th>race</th>\n",
       "      <th>age</th>\n",
       "      <th>path</th>\n",
       "      <th>age_range</th>\n",
       "      <th>full_path</th>\n",
       "    </tr>\n",
       "  </thead>\n",
       "  <tbody>\n",
       "    <tr>\n",
       "      <th>0</th>\n",
       "      <td>000001</td>\n",
       "      <td>female</td>\n",
       "      <td>Asian</td>\n",
       "      <td>45</td>\n",
       "      <td>000001_female_Asian_45</td>\n",
       "      <td>between 30 and 60</td>\n",
       "      <td>/opt/ml/input/data/train/images/000001_female_...</td>\n",
       "    </tr>\n",
       "    <tr>\n",
       "      <th>1</th>\n",
       "      <td>000002</td>\n",
       "      <td>female</td>\n",
       "      <td>Asian</td>\n",
       "      <td>52</td>\n",
       "      <td>000002_female_Asian_52</td>\n",
       "      <td>between 30 and 60</td>\n",
       "      <td>/opt/ml/input/data/train/images/000002_female_...</td>\n",
       "    </tr>\n",
       "    <tr>\n",
       "      <th>2</th>\n",
       "      <td>000004</td>\n",
       "      <td>male</td>\n",
       "      <td>Asian</td>\n",
       "      <td>54</td>\n",
       "      <td>000004_male_Asian_54</td>\n",
       "      <td>between 30 and 60</td>\n",
       "      <td>/opt/ml/input/data/train/images/000004_male_As...</td>\n",
       "    </tr>\n",
       "    <tr>\n",
       "      <th>3</th>\n",
       "      <td>000005</td>\n",
       "      <td>female</td>\n",
       "      <td>Asian</td>\n",
       "      <td>58</td>\n",
       "      <td>000005_female_Asian_58</td>\n",
       "      <td>between 30 and 60</td>\n",
       "      <td>/opt/ml/input/data/train/images/000005_female_...</td>\n",
       "    </tr>\n",
       "    <tr>\n",
       "      <th>4</th>\n",
       "      <td>000006</td>\n",
       "      <td>female</td>\n",
       "      <td>Asian</td>\n",
       "      <td>59</td>\n",
       "      <td>000006_female_Asian_59</td>\n",
       "      <td>between 30 and 60</td>\n",
       "      <td>/opt/ml/input/data/train/images/000006_female_...</td>\n",
       "    </tr>\n",
       "  </tbody>\n",
       "</table>\n",
       "</div>"
      ],
      "text/plain": [
       "       id  gender   race  age                    path          age_range  \\\n",
       "0  000001  female  Asian   45  000001_female_Asian_45  between 30 and 60   \n",
       "1  000002  female  Asian   52  000002_female_Asian_52  between 30 and 60   \n",
       "2  000004    male  Asian   54    000004_male_Asian_54  between 30 and 60   \n",
       "3  000005  female  Asian   58  000005_female_Asian_58  between 30 and 60   \n",
       "4  000006  female  Asian   59  000006_female_Asian_59  between 30 and 60   \n",
       "\n",
       "                                           full_path  \n",
       "0  /opt/ml/input/data/train/images/000001_female_...  \n",
       "1  /opt/ml/input/data/train/images/000002_female_...  \n",
       "2  /opt/ml/input/data/train/images/000004_male_As...  \n",
       "3  /opt/ml/input/data/train/images/000005_female_...  \n",
       "4  /opt/ml/input/data/train/images/000006_female_...  "
      ]
     },
     "execution_count": 6,
     "metadata": {},
     "output_type": "execute_result"
    }
   ],
   "source": [
    "# age로 범위지정해서 새로운 column 만들기\n",
    "df['age_range'] = df['age'].apply(lambda x: 'younger then 30' if x < 30 else ('older then 60' if x >= 60 else 'between 30 and 60'))\n",
    "\n",
    "# fullpath\n",
    "df['full_path'] = df['path'].apply(lambda x: os.path.join(train_dir, 'images', x))\n",
    "\n",
    "df.head()"
   ]
  },
  {
   "cell_type": "code",
   "execution_count": 8,
   "metadata": {},
   "outputs": [
    {
     "name": "stdout",
     "output_type": "stream",
     "text": [
      "2158\n",
      "542\n"
     ]
    }
   ],
   "source": [
    "from sklearn.model_selection import train_test_split\n",
    "\n",
    "# 817 732 109 549 410 83 : 2700\n",
    "# 163 146 22 110 82 17 : 540\n",
    "\n",
    "VAL_SPLIT = 0.2\n",
    "\n",
    "df_t1, df_v1 = train_test_split(df.loc[df['gender'] == 'female'].loc[df['age_range'] == 'younger then 30'], test_size=VAL_SPLIT, random_state=42)\n",
    "df_t2, df_v2 = train_test_split(df.loc[df['gender'] == 'female'].loc[df['age_range'] == 'between 30 and 60'], test_size=VAL_SPLIT, random_state=42)\n",
    "df_t3, df_v3 = train_test_split(df.loc[df['gender'] == 'female'].loc[df['age_range'] == 'older then 60'], test_size=VAL_SPLIT, random_state=42)\n",
    "df_t4, df_v4 = train_test_split(df.loc[df['gender'] == 'male'].loc[df['age_range'] == 'younger then 30'], test_size=VAL_SPLIT, random_state=42)\n",
    "df_t5, df_v5 = train_test_split(df.loc[df['gender'] == 'male'].loc[df['age_range'] == 'between 30 and 60'], test_size=VAL_SPLIT, random_state=42)\n",
    "df_t6, df_v6 = train_test_split(df.loc[df['gender'] == 'male'].loc[df['age_range'] == 'older then 60'], test_size=VAL_SPLIT, random_state=42)\n",
    "\n",
    "train_df = pd.concat([df_t1, df_t2, df_t3, df_t4, df_t5, df_t6])\n",
    "validation_df = pd.concat([df_v1, df_v2, df_v3, df_v4, df_v5, df_v6])\n",
    "\n",
    "print(len(train_df))\n",
    "print(len(validation_df))"
   ]
  },
  {
   "cell_type": "code",
   "execution_count": 64,
   "metadata": {},
   "outputs": [],
   "source": [
    "# split train and validation set\n",
    "#from sklearn.model_selection import train_test_split\n",
    "\n",
    "#VAL_SPLIT=0.2\n",
    "\n",
    "#train_df, validation_df = train_test_split(df, test_size=VAL_SPLIT, random_state=2021) # random_state is seed to fix data\n",
    "#print(f'train : {len(train_df)}, validation : {len(validation_df)}')\n",
    "#train_df.head()"
   ]
  },
  {
   "cell_type": "code",
   "execution_count": 9,
   "metadata": {},
   "outputs": [
    {
     "data": {
      "application/vnd.jupyter.widget-view+json": {
       "model_id": "3e966eb655fb4be2b8a055cf0fc1870a",
       "version_major": 2,
       "version_minor": 0
      },
      "text/plain": [
       "HBox(children=(HTML(value=''), FloatProgress(value=1.0, bar_style='info', layout=Layout(width='20px'), max=1.0…"
      ]
     },
     "metadata": {},
     "output_type": "display_data"
    },
    {
     "name": "stdout",
     "output_type": "stream",
     "text": [
      "\n"
     ]
    },
    {
     "data": {
      "application/vnd.jupyter.widget-view+json": {
       "model_id": "389104e1972d4f01b2219e9ff409fa50",
       "version_major": 2,
       "version_minor": 0
      },
      "text/plain": [
       "HBox(children=(HTML(value=''), FloatProgress(value=1.0, bar_style='info', layout=Layout(width='20px'), max=1.0…"
      ]
     },
     "metadata": {},
     "output_type": "display_data"
    },
    {
     "name": "stdout",
     "output_type": "stream",
     "text": [
      "\n",
      "train : 15106, validation : 3794\n"
     ]
    }
   ],
   "source": [
    "from tqdm.notebook import tqdm\n",
    "\n",
    "class_dict = {\n",
    "    \"Wear\": {\"male\": {\"younger then 30\": \"0\", \"between 30 and 60\": \"1\", \"older then 60\": \"2\"}\n",
    "            ,\"female\": {\"younger then 30\": \"3\", \"between 30 and 60\": \"4\", \"older then 60\": \"5\"}},\n",
    "    \"incorrect\": {\"male\": {\"younger then 30\": \"6\", \"between 30 and 60\": \"7\", \"older then 60\": \"8\"}\n",
    "            ,\"female\": {\"younger then 30\": \"9\", \"between 30 and 60\": \"10\", \"older then 60\": \"11\"}},\n",
    "    \"Not Wear\": {\"male\": {\"younger then 30\": \"12\", \"between 30 and 60\": \"13\", \"older then 60\": \"14\"}\n",
    "            ,\"female\": {\"younger then 30\": \"15\", \"between 30 and 60\": \"16\", \"older then 60\": \"17\"}}\n",
    "}\n",
    "\n",
    "train_class_df = pd.DataFrame([], columns = ['gender', 'age_range', 'wearing_status', 'class', 'age', 'race', 'path', 'img_full_path', 'full_path'])\n",
    "validation_class_df = pd.DataFrame([], columns = ['class', 'img_full_path'])\n",
    "\n",
    "for index, row in tqdm(train_df.iterrows()):\n",
    "    img_dir_list = os.listdir(row.full_path)\n",
    "    img_dir_list = [img_file for img_file in img_dir_list if not img_file.startswith('.')] # remove hidden files\n",
    "    for img_file in img_dir_list:\n",
    "        row['img_full_path'] = os.path.join(row.full_path, img_file)\n",
    "        row['wearing_status'] = 'incorrect' if 'incorrect_mask' in img_file else ('Not Wear' if 'normal' in img_file else 'Wear')\n",
    "        row['class'] = class_dict[row.wearing_status][row.gender][row.age_range]\n",
    "        train_class_df = train_class_df.append(row, ignore_index=True)\n",
    "\n",
    "for index, row in tqdm(validation_df.iterrows()):\n",
    "    img_dir_list = os.listdir(row.full_path)\n",
    "    img_dir_list = [img_file for img_file in img_dir_list if not img_file.startswith('.')] # remove hidden files\n",
    "    for img_file in img_dir_list:\n",
    "        row['img_full_path'] = os.path.join(row.full_path, img_file)\n",
    "        row['wearing_status'] = 'incorrect' if 'incorrect_mask' in img_file else ('Not Wear' if 'normal' in img_file else 'Wear')\n",
    "        row['class'] = class_dict[row.wearing_status][row.gender][row.age_range]\n",
    "        validation_class_df = validation_class_df.append(row, ignore_index=True)        \n",
    "        \n",
    "# label 값을 위한 수치 Age : 0, 1, 2 / Gender : 0, 3 / Mask 0, 6, 12  프로젝트 소스로 옮길땐 이 방법으로 수정(더 효율적임)\n",
    "#df['age_point'] = df['age'].apply(lambda x: 0 if x < 30 else (2 if x >= 60 else 1))\n",
    "#df['gender_point'] = df['gender'].apply(lambda x: 0 if x.lower() == 'male' else 3)\n",
    "#row['wearing_status_point'] = 'incorrect' if 'incorrect_mask' in img_file else ('Not Wear' if 'normal' in img_file else 'Wear')        \n",
    "\n",
    "print(f'train : {len(train_class_df)}, validation : {len(validation_class_df)}') # 15120, 3780"
   ]
  },
  {
   "cell_type": "code",
   "execution_count": 15,
   "metadata": {},
   "outputs": [
    {
     "name": "stdout",
     "output_type": "stream",
     "text": [
      "between 30 and 60    4571\n",
      "younger then 30      4095\n",
      "older then 60         609\n",
      "Name: age_range, dtype: int64\n",
      "between 30 and 60    1148\n",
      "younger then 30      1029\n",
      "older then 60         154\n",
      "Name: age_range, dtype: int64\n"
     ]
    }
   ],
   "source": [
    "train_class_df.head()\n",
    "print(train_class_df.loc[train_class_df['gender'] == 'female']['age_range'].value_counts())\n",
    "print(validation_class_df.loc[validation_class_df['gender'] == 'female']['age_range'].value_counts())"
   ]
  },
  {
   "cell_type": "code",
   "execution_count": 12,
   "metadata": {},
   "outputs": [
    {
     "data": {
      "text/html": [
       "<div>\n",
       "<style scoped>\n",
       "    .dataframe tbody tr th:only-of-type {\n",
       "        vertical-align: middle;\n",
       "    }\n",
       "\n",
       "    .dataframe tbody tr th {\n",
       "        vertical-align: top;\n",
       "    }\n",
       "\n",
       "    .dataframe thead th {\n",
       "        text-align: right;\n",
       "    }\n",
       "</style>\n",
       "<table border=\"1\" class=\"dataframe\">\n",
       "  <thead>\n",
       "    <tr style=\"text-align: right;\">\n",
       "      <th></th>\n",
       "      <th>class</th>\n",
       "      <th>img_full_path</th>\n",
       "      <th>age</th>\n",
       "      <th>age_range</th>\n",
       "      <th>full_path</th>\n",
       "      <th>gender</th>\n",
       "      <th>id</th>\n",
       "      <th>path</th>\n",
       "      <th>race</th>\n",
       "      <th>wearing_status</th>\n",
       "    </tr>\n",
       "  </thead>\n",
       "  <tbody>\n",
       "    <tr>\n",
       "      <th>0</th>\n",
       "      <td>3</td>\n",
       "      <td>/opt/ml/input/data/train/images/003093_female_...</td>\n",
       "      <td>19.0</td>\n",
       "      <td>younger then 30</td>\n",
       "      <td>/opt/ml/input/data/train/images/003093_female_...</td>\n",
       "      <td>female</td>\n",
       "      <td>003093</td>\n",
       "      <td>003093_female_Asian_19</td>\n",
       "      <td>Asian</td>\n",
       "      <td>Wear</td>\n",
       "    </tr>\n",
       "    <tr>\n",
       "      <th>1</th>\n",
       "      <td>15</td>\n",
       "      <td>/opt/ml/input/data/train/images/003093_female_...</td>\n",
       "      <td>19.0</td>\n",
       "      <td>younger then 30</td>\n",
       "      <td>/opt/ml/input/data/train/images/003093_female_...</td>\n",
       "      <td>female</td>\n",
       "      <td>003093</td>\n",
       "      <td>003093_female_Asian_19</td>\n",
       "      <td>Asian</td>\n",
       "      <td>Not Wear</td>\n",
       "    </tr>\n",
       "    <tr>\n",
       "      <th>2</th>\n",
       "      <td>3</td>\n",
       "      <td>/opt/ml/input/data/train/images/003093_female_...</td>\n",
       "      <td>19.0</td>\n",
       "      <td>younger then 30</td>\n",
       "      <td>/opt/ml/input/data/train/images/003093_female_...</td>\n",
       "      <td>female</td>\n",
       "      <td>003093</td>\n",
       "      <td>003093_female_Asian_19</td>\n",
       "      <td>Asian</td>\n",
       "      <td>Wear</td>\n",
       "    </tr>\n",
       "    <tr>\n",
       "      <th>3</th>\n",
       "      <td>9</td>\n",
       "      <td>/opt/ml/input/data/train/images/003093_female_...</td>\n",
       "      <td>19.0</td>\n",
       "      <td>younger then 30</td>\n",
       "      <td>/opt/ml/input/data/train/images/003093_female_...</td>\n",
       "      <td>female</td>\n",
       "      <td>003093</td>\n",
       "      <td>003093_female_Asian_19</td>\n",
       "      <td>Asian</td>\n",
       "      <td>incorrect</td>\n",
       "    </tr>\n",
       "    <tr>\n",
       "      <th>4</th>\n",
       "      <td>3</td>\n",
       "      <td>/opt/ml/input/data/train/images/003093_female_...</td>\n",
       "      <td>19.0</td>\n",
       "      <td>younger then 30</td>\n",
       "      <td>/opt/ml/input/data/train/images/003093_female_...</td>\n",
       "      <td>female</td>\n",
       "      <td>003093</td>\n",
       "      <td>003093_female_Asian_19</td>\n",
       "      <td>Asian</td>\n",
       "      <td>Wear</td>\n",
       "    </tr>\n",
       "  </tbody>\n",
       "</table>\n",
       "</div>"
      ],
      "text/plain": [
       "  class                                      img_full_path   age  \\\n",
       "0     3  /opt/ml/input/data/train/images/003093_female_...  19.0   \n",
       "1    15  /opt/ml/input/data/train/images/003093_female_...  19.0   \n",
       "2     3  /opt/ml/input/data/train/images/003093_female_...  19.0   \n",
       "3     9  /opt/ml/input/data/train/images/003093_female_...  19.0   \n",
       "4     3  /opt/ml/input/data/train/images/003093_female_...  19.0   \n",
       "\n",
       "         age_range                                          full_path  gender  \\\n",
       "0  younger then 30  /opt/ml/input/data/train/images/003093_female_...  female   \n",
       "1  younger then 30  /opt/ml/input/data/train/images/003093_female_...  female   \n",
       "2  younger then 30  /opt/ml/input/data/train/images/003093_female_...  female   \n",
       "3  younger then 30  /opt/ml/input/data/train/images/003093_female_...  female   \n",
       "4  younger then 30  /opt/ml/input/data/train/images/003093_female_...  female   \n",
       "\n",
       "       id                    path   race wearing_status  \n",
       "0  003093  003093_female_Asian_19  Asian           Wear  \n",
       "1  003093  003093_female_Asian_19  Asian       Not Wear  \n",
       "2  003093  003093_female_Asian_19  Asian           Wear  \n",
       "3  003093  003093_female_Asian_19  Asian      incorrect  \n",
       "4  003093  003093_female_Asian_19  Asian           Wear  "
      ]
     },
     "execution_count": 12,
     "metadata": {},
     "output_type": "execute_result"
    }
   ],
   "source": [
    "validation_class_df.head()"
   ]
  },
  {
   "cell_type": "code",
   "execution_count": 16,
   "metadata": {},
   "outputs": [],
   "source": [
    "# csv 파일로 저장\n",
    "if os.path.isfile('./base_dataset/train_class_df.csv'):\n",
    "    os.remove('./base_dataset/train_class_df.csv')\n",
    "if os.path.isfile('./base_dataset/validation_class_df.csv'):\n",
    "    os.remove('./base_dataset/validation_class_df.csv')\n",
    "    \n",
    "train_class_df.to_csv('./base_dataset/train_class_df.csv')\n",
    "validation_class_df.to_csv('./base_dataset/validation_class_df.csv')"
   ]
  },
  {
   "cell_type": "code",
   "execution_count": 3,
   "metadata": {},
   "outputs": [],
   "source": [
    "########################################################################################################################################################\n",
    "######################################재시작시 시작점###################################################################################################\n",
    "########################################################################################################################################################"
   ]
  },
  {
   "cell_type": "code",
   "execution_count": 1,
   "metadata": {},
   "outputs": [],
   "source": [
    "data_path = {\n",
    "    'train': './base_dataset/train_class_df.csv',\n",
    "    'validation': './base_dataset/validation_class_df.csv'\n",
    "}"
   ]
  },
  {
   "cell_type": "code",
   "execution_count": 2,
   "metadata": {},
   "outputs": [],
   "source": [
    "import os\n",
    "\n",
    "import random\n",
    "import numpy as np\n",
    "import pandas as pd\n",
    "\n",
    "import torch\n",
    "from torch.utils.data import DataLoader\n",
    "from torch.utils.data import Dataset\n",
    "from torchvision import transforms\n",
    "\n",
    "from PIL import Image\n",
    "\n",
    "# SEED 를 고정\n",
    "def seed_everything(seed):\n",
    "    os.environ['PYTHONHASHSEED'] = str(seed)\n",
    "    torch.manual_seed(seed)\n",
    "    torch.cuda.manual_seed(seed)\n",
    "    torch.cuda.manual_seed_all(seed) # if use multi-GPU\n",
    "    torch.backends.cudnn.deterministic = True\n",
    "    torch.backends.cudnn.benchmark = False\n",
    "    np.random.seed(seed)\n",
    "    random.seed(seed)\n",
    "\n",
    "seed = 42\n",
    "seed_everything(seed)"
   ]
  },
  {
   "cell_type": "markdown",
   "metadata": {},
   "source": [
    "#### 2.2.2. Dataset 만들기"
   ]
  },
  {
   "cell_type": "code",
   "execution_count": 3,
   "metadata": {},
   "outputs": [],
   "source": [
    "import cv2\n",
    "\n",
    "class Mask(Dataset):\n",
    "    def __init__(self, method, transform, train=True):\n",
    "        self.data = pd.read_csv(data_path[method])\n",
    "        self.transform = transform\n",
    "        self.train = train\n",
    "        \n",
    "        self.X = self.data['img_full_path']\n",
    "        self.y = self.data['class']\n",
    "        \n",
    "    def __len__(self):\n",
    "        return len(self.X)\n",
    "    \n",
    "    def __getitem__(self, idx):\n",
    "        #print(self.X[idx])\n",
    "        img = cv2.imread(self.X[idx])\n",
    "        rgb = cv2.cvtColor(img, cv2.COLOR_BGR2RGB)\n",
    "        cascade = cv2.CascadeClassifier(cv2.data.haarcascades + 'haarcascade_frontalface_default.xml')\n",
    "        face = cascade.detectMultiScale(rgb)\n",
    "        if len(face) == 0:\n",
    "            croped = rgb[100:400, 80:280]\n",
    "        else:\n",
    "            for x, y, w, h in face:\n",
    "                if w < 100:\n",
    "                    croped = rgb[100:400, 80:280]\n",
    "                    break\n",
    "                croped = rgb[max(0,y-50):min(y+h+20, 512), x:x+w]\n",
    "        \n",
    "        crop_img = Image.fromarray(croped)\n",
    "        crop_img = transforms.Resize((300,200))(crop_img)\n",
    "        \n",
    "        X = self.transform(crop_img)\n",
    "        y = self.y[idx]\n",
    "\n",
    "        X = torch.tensor(X, dtype=torch.float)\n",
    "        y = torch.tensor(y, dtype=torch.long)\n",
    "        \n",
    "        if not self.train:\n",
    "            X = torch.tensor(X, dtype=torch.float)\n",
    "            return X.clone().detach()\n",
    "            #return torch.tensor(X, dtype=torch.float)\n",
    "        #return torch.tensor(X, dtype=torch.float), torch.tensor(y, dtype=torch.long)\n",
    "        return X.clone().detach(), y.clone().detach()\n",
    "\n",
    "#         img = Image.open(self.X[idx])\n",
    "        \n",
    "#         X = self.transform(img)\n",
    "#         y = self.y[idx]\n",
    "\n",
    "#         X = torch.tensor(X, dtype=torch.float)\n",
    "#         y = torch.tensor(y, dtype=torch.long)\n",
    "        \n",
    "#         if not self.train:\n",
    "#             X = torch.tensor(X, dtype=torch.float)\n",
    "#             return X.clone().detach()\n",
    "#             #return torch.tensor(X, dtype=torch.float)\n",
    "#         #return torch.tensor(X, dtype=torch.float), torch.tensor(y, dtype=torch.long)\n",
    "#         return X.clone().detach(), y.clone().detach()"
   ]
  },
  {
   "cell_type": "code",
   "execution_count": 4,
   "metadata": {},
   "outputs": [],
   "source": [
    "transform = transforms.Compose([\n",
    "                                transforms.ToTensor(),\n",
    "                                transforms.Normalize(mean=(0.5, 0.5, 0.5), std=(0.2, 0.2, 0.2))\n",
    "])"
   ]
  },
  {
   "cell_type": "code",
   "execution_count": 5,
   "metadata": {},
   "outputs": [],
   "source": [
    "train_dataset = Mask(method='train', transform=transform, train=True)\n",
    "validation_dataset = Mask(method='validation', transform=transform, train=True)"
   ]
  },
  {
   "cell_type": "markdown",
   "metadata": {},
   "source": [
    "#### 2.2.3. DataLoader 만들기"
   ]
  },
  {
   "cell_type": "code",
   "execution_count": 6,
   "metadata": {},
   "outputs": [],
   "source": [
    "from torch.utils.data.sampler import SubsetRandomSampler\n",
    "\n",
    "BATCH_SIZE = 32\n",
    "\n",
    "seed_everything(seed)\n",
    "train_loader = DataLoader(train_dataset, batch_size=BATCH_SIZE, shuffle=True, num_workers=0)\n",
    "validation_loader = DataLoader(validation_dataset, batch_size=BATCH_SIZE, shuffle=False, num_workers=0)"
   ]
  },
  {
   "cell_type": "code",
   "execution_count": 7,
   "metadata": {},
   "outputs": [
    {
     "name": "stdout",
     "output_type": "stream",
     "text": [
      "/opt/ml/input/data/train/images/003070_female_Asian_20/mask3.jpg\n"
     ]
    },
    {
     "name": "stderr",
     "output_type": "stream",
     "text": [
      "<ipython-input-3-42cb521d51ab>:36: UserWarning: To copy construct from a tensor, it is recommended to use sourceTensor.clone().detach() or sourceTensor.clone().detach().requires_grad_(True), rather than torch.tensor(sourceTensor).\n",
      "  X = torch.tensor(X, dtype=torch.float)\n"
     ]
    },
    {
     "data": {
      "text/plain": [
       "(tensor([[[ 0.6765,  0.6765,  0.6765,  ...,  0.0882,  0.1667,  0.3627],\n",
       "          [ 0.6765,  0.6765,  0.6765,  ...,  0.1078,  0.1667,  0.2255],\n",
       "          [ 0.6765,  0.6765,  0.6765,  ...,  0.2059,  0.2255,  0.1275],\n",
       "          ...,\n",
       "          [-2.3039, -2.2843, -2.2647,  ..., -1.4804, -1.4804, -1.4804],\n",
       "          [-2.3039, -2.2843, -2.2647,  ..., -1.4804, -1.4804, -1.4804],\n",
       "          [-2.3039, -2.2843, -2.2451,  ..., -1.4804, -1.4804, -1.4804]],\n",
       " \n",
       "         [[ 0.6569,  0.6569,  0.6569,  ...,  0.0686,  0.1471,  0.3431],\n",
       "          [ 0.6569,  0.6569,  0.6569,  ...,  0.0882,  0.1471,  0.2059],\n",
       "          [ 0.6569,  0.6569,  0.6569,  ...,  0.1863,  0.2059,  0.1078],\n",
       "          ...,\n",
       "          [-2.3039, -2.2843, -2.2647,  ..., -1.6176, -1.6176, -1.6176],\n",
       "          [-2.3039, -2.2843, -2.2647,  ..., -1.6176, -1.6176, -1.6176],\n",
       "          [-2.3039, -2.2843, -2.2843,  ..., -1.6176, -1.6176, -1.6176]],\n",
       " \n",
       "         [[ 0.5784,  0.5784,  0.5784,  ..., -0.0294,  0.0490,  0.2451],\n",
       "          [ 0.5784,  0.5784,  0.5784,  ..., -0.0098,  0.0490,  0.1078],\n",
       "          [ 0.5784,  0.5784,  0.5784,  ...,  0.0882,  0.1078,  0.0098],\n",
       "          ...,\n",
       "          [-2.2647, -2.2451, -2.2255,  ..., -1.9314, -1.9314, -1.9314],\n",
       "          [-2.3039, -2.2843, -2.2647,  ..., -1.9706, -1.9706, -1.9706],\n",
       "          [-2.3039, -2.2843, -2.2647,  ..., -1.9706, -1.9706, -1.9706]]]),\n",
       " tensor(3))"
      ]
     },
     "execution_count": 7,
     "metadata": {},
     "output_type": "execute_result"
    }
   ],
   "source": [
    "train_dataset[11]\n",
    "# sample_img, sample_label = next(iter(train_loader))\n",
    "# sample_img"
   ]
  },
  {
   "cell_type": "markdown",
   "metadata": {},
   "source": [
    "### 2.3. Model 만들기(가져오기)"
   ]
  },
  {
   "cell_type": "code",
   "execution_count": 7,
   "metadata": {},
   "outputs": [
    {
     "data": {
      "text/plain": [
       "tensor([-0.0282, -0.0293,  0.0232, -0.0018, -0.0251, -0.0441,  0.0382,  0.0027,\n",
       "        -0.0391, -0.0218, -0.0271,  0.0262,  0.0390,  0.0339, -0.0274, -0.0178,\n",
       "         0.0161,  0.0222])"
      ]
     },
     "execution_count": 7,
     "metadata": {},
     "output_type": "execute_result"
    }
   ],
   "source": [
    "import math\n",
    "import torchvision\n",
    "\n",
    "seed_everything(seed)\n",
    "mask_resnet18 = torchvision.models.resnet18(pretrained=True)\n",
    "mask_resnet18.fc = torch.nn.Linear(in_features=512, out_features=18, bias=True)\n",
    "torch.nn.init.xavier_uniform_(mask_resnet18.fc.weight)\n",
    "stdv = 1. / math.sqrt(mask_resnet18.fc.weight.size(1))\n",
    "mask_resnet18.fc.bias.data.uniform_(-stdv, stdv)"
   ]
  },
  {
   "cell_type": "code",
   "execution_count": 8,
   "metadata": {},
   "outputs": [
    {
     "name": "stdout",
     "output_type": "stream",
     "text": [
      "cuda:0 is using!\n"
     ]
    }
   ],
   "source": [
    "seed_everything(seed)\n",
    "device = torch.device(\"cuda:0\" if torch.cuda.is_available() else \"cpu\") # 학습 때 GPU 사용여부 결정. Colab에서는 \"런타임\"->\"런타임 유형 변경\"에서 \"GPU\"를 선택할 수 있음\n",
    "print(f\"{device} is using!\")\n",
    "mask_resnet18.to(device) # Resnent 18 네트워크의 Tensor들을 GPU에 올릴지 Memory에 올릴지 결정함\n",
    "\n",
    "LEARNING_RATE = 0.0001 # 학습 때 사용하는 optimizer의 학습률 옵션 설정\n",
    "NUM_EPOCH = 10 # 학습 때 mnist train 데이터 셋을 얼마나 많이 학습할지 결정하는 옵션\n",
    "\n",
    "loss_fn = torch.nn.CrossEntropyLoss() # 분류 학습 때 많이 사용되는 Cross entropy loss를 objective function으로 사용 - https://en.wikipedia.org/wiki/Cross_entropy\n",
    "optimizer = torch.optim.Adam(mask_resnet18.parameters(), lr=LEARNING_RATE) # weight 업데이트를 위한 optimizer를 Adam으로 사용함\n",
    "scheduler = torch.optim.lr_scheduler.CosineAnnealingLR(optimizer, T_max=50, eta_min=0, last_epoch=-1, verbose=False)\n",
    "\n",
    "dataloaders = {\n",
    "    \"train\" : train_loader,\n",
    "    \"validation\" : validation_loader\n",
    "}"
   ]
  },
  {
   "cell_type": "markdown",
   "metadata": {},
   "source": [
    "### 2.4. wandb 세팅"
   ]
  },
  {
   "cell_type": "code",
   "execution_count": 22,
   "metadata": {},
   "outputs": [],
   "source": [
    "#!pip install wandb"
   ]
  },
  {
   "cell_type": "code",
   "execution_count": 9,
   "metadata": {},
   "outputs": [
    {
     "name": "stderr",
     "output_type": "stream",
     "text": [
      "\u001b[34m\u001b[1mwandb\u001b[0m: Currently logged in as: \u001b[33mlswkim\u001b[0m (use `wandb login --relogin` to force relogin)\n"
     ]
    },
    {
     "data": {
      "text/plain": [
       "True"
      ]
     },
     "execution_count": 9,
     "metadata": {},
     "output_type": "execute_result"
    }
   ],
   "source": [
    "import wandb\n",
    "\n",
    "wandb.login()"
   ]
  },
  {
   "cell_type": "code",
   "execution_count": 10,
   "metadata": {},
   "outputs": [
    {
     "name": "stderr",
     "output_type": "stream",
     "text": [
      "\n",
      "CondaEnvException: Unable to determine environment\n",
      "\n",
      "Please re-run this command with one of the following options:\n",
      "\n",
      "* Provide an environment name via --name or -n\n",
      "* Re-run this command inside an activated conda environment.\n",
      "\n"
     ]
    },
    {
     "data": {
      "text/html": [
       "\n",
       "                Tracking run with wandb version 0.12.1<br/>\n",
       "                Syncing run <strong style=\"color:#cdcd00\">twilight-plant-25</strong> to <a href=\"https://wandb.ai\" target=\"_blank\">Weights & Biases</a> <a href=\"https://docs.wandb.com/integrations/jupyter.html\" target=\"_blank\">(Documentation)</a>.<br/>\n",
       "                Project page: <a href=\"https://wandb.ai/team-34/image-classification-mask\" target=\"_blank\">https://wandb.ai/team-34/image-classification-mask</a><br/>\n",
       "                Run page: <a href=\"https://wandb.ai/team-34/image-classification-mask/runs/20wwscwz\" target=\"_blank\">https://wandb.ai/team-34/image-classification-mask/runs/20wwscwz</a><br/>\n",
       "                Run data is saved locally in <code>/opt/ml/code/wandb/run-20210829_205004-20wwscwz</code><br/><br/>\n",
       "            "
      ],
      "text/plain": [
       "<IPython.core.display.HTML object>"
      ]
     },
     "metadata": {},
     "output_type": "display_data"
    },
    {
     "data": {
      "text/plain": [
       "[]"
      ]
     },
     "execution_count": 10,
     "metadata": {},
     "output_type": "execute_result"
    }
   ],
   "source": [
    "# wandb 세팅\n",
    "import wandb\n",
    "\n",
    "#NUM_EPOCH = 5 # 그냥 한번 더 씀 (보기 쉽게)\n",
    "BATCH_SIZE = 32\n",
    "LEARNING_RATE = 0.001\n",
    "VAL_SPLIT = 0.2\n",
    "OPTIMIZER = 'ADAM'\n",
    "SCHEDULAR = 'CosineAnnealingLR'\n",
    "AUGMENTATION = 'None'\n",
    "\n",
    "config = {\n",
    "    'epochs': NUM_EPOCH, 'batch_size': BATCH_SIZE, 'learning_rate': LEARNING_RATE,\n",
    "    'val_split': VAL_SPLIT, 'Schedular': SCHEDULAR,  'Augmentation': AUGMENTATION\n",
    "}\n",
    "\n",
    "wandb.init(project='image-classification-mask', entity='team-34', config=config)\n",
    "wandb.run.name = 'ksw_4th_resNet18' # 회차 이름 명명 규칙 필요할 것 같음. {이름}_{회차}_{모델명} \n",
    "wandb.watch(mask_resnet18)"
   ]
  },
  {
   "cell_type": "markdown",
   "metadata": {},
   "source": [
    "### 2.4. Training 시작"
   ]
  },
  {
   "cell_type": "code",
   "execution_count": 11,
   "metadata": {},
   "outputs": [],
   "source": [
    "import warnings\n",
    "\n",
    "warnings.filterwarnings(action='ignore')"
   ]
  },
  {
   "cell_type": "code",
   "execution_count": 12,
   "metadata": {},
   "outputs": [
    {
     "data": {
      "application/vnd.jupyter.widget-view+json": {
       "model_id": "74e6d537152b44b18cb45e779f4fe04c",
       "version_major": 2,
       "version_minor": 0
      },
      "text/plain": [
       "HBox(children=(HTML(value=''), FloatProgress(value=0.0, max=473.0), HTML(value='')))"
      ]
     },
     "metadata": {},
     "output_type": "display_data"
    },
    {
     "name": "stdout",
     "output_type": "stream",
     "text": [
      "\n",
      "현재 epoch-0의 train-데이터 셋에서 평균 Loss : 0.522, 평균 Accuracy : 0.840\n"
     ]
    },
    {
     "data": {
      "application/vnd.jupyter.widget-view+json": {
       "model_id": "3bcc95537e83415291c03872b9a092cc",
       "version_major": 2,
       "version_minor": 0
      },
      "text/plain": [
       "HBox(children=(HTML(value=''), FloatProgress(value=0.0, max=119.0), HTML(value='')))"
      ]
     },
     "metadata": {},
     "output_type": "display_data"
    },
    {
     "name": "stdout",
     "output_type": "stream",
     "text": [
      "\n",
      "현재 epoch-0의 validation-데이터 셋에서 평균 Loss : 0.402, 평균 Accuracy : 0.873\n"
     ]
    },
    {
     "data": {
      "application/vnd.jupyter.widget-view+json": {
       "model_id": "153bddbd92994d46b7930c89649afbba",
       "version_major": 2,
       "version_minor": 0
      },
      "text/plain": [
       "HBox(children=(HTML(value=''), FloatProgress(value=0.0, max=473.0), HTML(value='')))"
      ]
     },
     "metadata": {},
     "output_type": "display_data"
    },
    {
     "name": "stdout",
     "output_type": "stream",
     "text": [
      "\n",
      "현재 epoch-1의 train-데이터 셋에서 평균 Loss : 0.161, 평균 Accuracy : 0.950\n"
     ]
    },
    {
     "data": {
      "application/vnd.jupyter.widget-view+json": {
       "model_id": "a959c4d840974646920a3d3362497b0a",
       "version_major": 2,
       "version_minor": 0
      },
      "text/plain": [
       "HBox(children=(HTML(value=''), FloatProgress(value=0.0, max=119.0), HTML(value='')))"
      ]
     },
     "metadata": {},
     "output_type": "display_data"
    },
    {
     "name": "stdout",
     "output_type": "stream",
     "text": [
      "\n",
      "현재 epoch-1의 validation-데이터 셋에서 평균 Loss : 0.415, 평균 Accuracy : 0.880\n"
     ]
    },
    {
     "data": {
      "application/vnd.jupyter.widget-view+json": {
       "model_id": "7b261505523f41a3b02ab0f0834807e8",
       "version_major": 2,
       "version_minor": 0
      },
      "text/plain": [
       "HBox(children=(HTML(value=''), FloatProgress(value=0.0, max=473.0), HTML(value='')))"
      ]
     },
     "metadata": {},
     "output_type": "display_data"
    },
    {
     "name": "stdout",
     "output_type": "stream",
     "text": [
      "\n",
      "현재 epoch-2의 train-데이터 셋에서 평균 Loss : 0.069, 평균 Accuracy : 0.981\n"
     ]
    },
    {
     "data": {
      "application/vnd.jupyter.widget-view+json": {
       "model_id": "512ed71d7b8f4312a3d6dec821c7da31",
       "version_major": 2,
       "version_minor": 0
      },
      "text/plain": [
       "HBox(children=(HTML(value=''), FloatProgress(value=0.0, max=119.0), HTML(value='')))"
      ]
     },
     "metadata": {},
     "output_type": "display_data"
    },
    {
     "name": "stdout",
     "output_type": "stream",
     "text": [
      "\n",
      "현재 epoch-2의 validation-데이터 셋에서 평균 Loss : 0.671, 평균 Accuracy : 0.843\n"
     ]
    },
    {
     "data": {
      "application/vnd.jupyter.widget-view+json": {
       "model_id": "f5bf0b598a804692a881e4c8f5bc40f7",
       "version_major": 2,
       "version_minor": 0
      },
      "text/plain": [
       "HBox(children=(HTML(value=''), FloatProgress(value=0.0, max=473.0), HTML(value='')))"
      ]
     },
     "metadata": {},
     "output_type": "display_data"
    },
    {
     "name": "stdout",
     "output_type": "stream",
     "text": [
      "\n",
      "현재 epoch-3의 train-데이터 셋에서 평균 Loss : 0.042, 평균 Accuracy : 0.990\n"
     ]
    },
    {
     "data": {
      "application/vnd.jupyter.widget-view+json": {
       "model_id": "d6f497154c354f23a9ba907f3398ff05",
       "version_major": 2,
       "version_minor": 0
      },
      "text/plain": [
       "HBox(children=(HTML(value=''), FloatProgress(value=0.0, max=119.0), HTML(value='')))"
      ]
     },
     "metadata": {},
     "output_type": "display_data"
    },
    {
     "name": "stdout",
     "output_type": "stream",
     "text": [
      "\n",
      "현재 epoch-3의 validation-데이터 셋에서 평균 Loss : 0.471, 평균 Accuracy : 0.876\n"
     ]
    },
    {
     "data": {
      "application/vnd.jupyter.widget-view+json": {
       "model_id": "36e37c8872f74f26a74ffd8649e4fb77",
       "version_major": 2,
       "version_minor": 0
      },
      "text/plain": [
       "HBox(children=(HTML(value=''), FloatProgress(value=0.0, max=473.0), HTML(value='')))"
      ]
     },
     "metadata": {},
     "output_type": "display_data"
    },
    {
     "name": "stdout",
     "output_type": "stream",
     "text": [
      "\n",
      "현재 epoch-4의 train-데이터 셋에서 평균 Loss : 0.031, 평균 Accuracy : 0.993\n"
     ]
    },
    {
     "data": {
      "application/vnd.jupyter.widget-view+json": {
       "model_id": "016af841559d4fa8896d2bb47016ad61",
       "version_major": 2,
       "version_minor": 0
      },
      "text/plain": [
       "HBox(children=(HTML(value=''), FloatProgress(value=0.0, max=119.0), HTML(value='')))"
      ]
     },
     "metadata": {},
     "output_type": "display_data"
    },
    {
     "name": "stdout",
     "output_type": "stream",
     "text": [
      "\n",
      "현재 epoch-4의 validation-데이터 셋에서 평균 Loss : 0.537, 평균 Accuracy : 0.882\n"
     ]
    },
    {
     "data": {
      "application/vnd.jupyter.widget-view+json": {
       "model_id": "fb24a072cdc4489897ae2cb2ad556935",
       "version_major": 2,
       "version_minor": 0
      },
      "text/plain": [
       "HBox(children=(HTML(value=''), FloatProgress(value=0.0, max=473.0), HTML(value='')))"
      ]
     },
     "metadata": {},
     "output_type": "display_data"
    },
    {
     "name": "stdout",
     "output_type": "stream",
     "text": [
      "\n",
      "현재 epoch-5의 train-데이터 셋에서 평균 Loss : 0.028, 평균 Accuracy : 0.993\n"
     ]
    },
    {
     "data": {
      "application/vnd.jupyter.widget-view+json": {
       "model_id": "2d73043302144d2a898f82701358417d",
       "version_major": 2,
       "version_minor": 0
      },
      "text/plain": [
       "HBox(children=(HTML(value=''), FloatProgress(value=0.0, max=119.0), HTML(value='')))"
      ]
     },
     "metadata": {},
     "output_type": "display_data"
    },
    {
     "name": "stdout",
     "output_type": "stream",
     "text": [
      "\n",
      "현재 epoch-5의 validation-데이터 셋에서 평균 Loss : 0.533, 평균 Accuracy : 0.878\n"
     ]
    },
    {
     "data": {
      "application/vnd.jupyter.widget-view+json": {
       "model_id": "c0aeed00b5cb4c519475453c2f0efff1",
       "version_major": 2,
       "version_minor": 0
      },
      "text/plain": [
       "HBox(children=(HTML(value=''), FloatProgress(value=0.0, max=473.0), HTML(value='')))"
      ]
     },
     "metadata": {},
     "output_type": "display_data"
    },
    {
     "name": "stdout",
     "output_type": "stream",
     "text": [
      "\n",
      "현재 epoch-6의 train-데이터 셋에서 평균 Loss : 0.014, 평균 Accuracy : 0.997\n"
     ]
    },
    {
     "data": {
      "application/vnd.jupyter.widget-view+json": {
       "model_id": "cac6da8431f447d1a5bd52725882b07a",
       "version_major": 2,
       "version_minor": 0
      },
      "text/plain": [
       "HBox(children=(HTML(value=''), FloatProgress(value=0.0, max=119.0), HTML(value='')))"
      ]
     },
     "metadata": {},
     "output_type": "display_data"
    },
    {
     "name": "stdout",
     "output_type": "stream",
     "text": [
      "\n",
      "현재 epoch-6의 validation-데이터 셋에서 평균 Loss : 0.496, 평균 Accuracy : 0.871\n"
     ]
    },
    {
     "data": {
      "application/vnd.jupyter.widget-view+json": {
       "model_id": "11c6ec8623cd4f66b97d3bca67249007",
       "version_major": 2,
       "version_minor": 0
      },
      "text/plain": [
       "HBox(children=(HTML(value=''), FloatProgress(value=0.0, max=473.0), HTML(value='')))"
      ]
     },
     "metadata": {},
     "output_type": "display_data"
    },
    {
     "name": "stdout",
     "output_type": "stream",
     "text": [
      "\n",
      "현재 epoch-7의 train-데이터 셋에서 평균 Loss : 0.026, 평균 Accuracy : 0.993\n"
     ]
    },
    {
     "data": {
      "application/vnd.jupyter.widget-view+json": {
       "model_id": "749466747d834d1b9e6987d5a28cbd7a",
       "version_major": 2,
       "version_minor": 0
      },
      "text/plain": [
       "HBox(children=(HTML(value=''), FloatProgress(value=0.0, max=119.0), HTML(value='')))"
      ]
     },
     "metadata": {},
     "output_type": "display_data"
    },
    {
     "name": "stdout",
     "output_type": "stream",
     "text": [
      "\n",
      "현재 epoch-7의 validation-데이터 셋에서 평균 Loss : 0.591, 평균 Accuracy : 0.877\n"
     ]
    },
    {
     "data": {
      "application/vnd.jupyter.widget-view+json": {
       "model_id": "f198a90001974ec2a05b4b2f97a324d9",
       "version_major": 2,
       "version_minor": 0
      },
      "text/plain": [
       "HBox(children=(HTML(value=''), FloatProgress(value=0.0, max=473.0), HTML(value='')))"
      ]
     },
     "metadata": {},
     "output_type": "display_data"
    },
    {
     "name": "stdout",
     "output_type": "stream",
     "text": [
      "\n",
      "현재 epoch-8의 train-데이터 셋에서 평균 Loss : 0.076, 평균 Accuracy : 0.974\n"
     ]
    },
    {
     "data": {
      "application/vnd.jupyter.widget-view+json": {
       "model_id": "cb0e18cd3efa41109eb0ed27080c0884",
       "version_major": 2,
       "version_minor": 0
      },
      "text/plain": [
       "HBox(children=(HTML(value=''), FloatProgress(value=0.0, max=119.0), HTML(value='')))"
      ]
     },
     "metadata": {},
     "output_type": "display_data"
    },
    {
     "name": "stdout",
     "output_type": "stream",
     "text": [
      "\n",
      "현재 epoch-8의 validation-데이터 셋에서 평균 Loss : 0.574, 평균 Accuracy : 0.872\n"
     ]
    },
    {
     "data": {
      "application/vnd.jupyter.widget-view+json": {
       "model_id": "fc5c8c59f0db4d1c81625dc9b803c8ef",
       "version_major": 2,
       "version_minor": 0
      },
      "text/plain": [
       "HBox(children=(HTML(value=''), FloatProgress(value=0.0, max=473.0), HTML(value='')))"
      ]
     },
     "metadata": {},
     "output_type": "display_data"
    },
    {
     "name": "stdout",
     "output_type": "stream",
     "text": [
      "\n",
      "현재 epoch-9의 train-데이터 셋에서 평균 Loss : 0.015, 평균 Accuracy : 0.996\n"
     ]
    },
    {
     "data": {
      "application/vnd.jupyter.widget-view+json": {
       "model_id": "a0378918cf944e5f807ce47898467397",
       "version_major": 2,
       "version_minor": 0
      },
      "text/plain": [
       "HBox(children=(HTML(value=''), FloatProgress(value=0.0, max=119.0), HTML(value='')))"
      ]
     },
     "metadata": {},
     "output_type": "display_data"
    },
    {
     "name": "stdout",
     "output_type": "stream",
     "text": [
      "\n",
      "현재 epoch-9의 validation-데이터 셋에서 평균 Loss : 0.492, 평균 Accuracy : 0.879\n",
      "학습 종료!\n",
      "최고 accuracy : 0.8819188475608826, 최고 낮은 loss : 0.4023524811967587\n"
     ]
    },
    {
     "data": {
      "text/html": [
       "<br/>Waiting for W&B process to finish, PID 8861<br/>Program ended successfully."
      ],
      "text/plain": [
       "<IPython.core.display.HTML object>"
      ]
     },
     "metadata": {},
     "output_type": "display_data"
    },
    {
     "data": {
      "application/vnd.jupyter.widget-view+json": {
       "model_id": "",
       "version_major": 2,
       "version_minor": 0
      },
      "text/plain": [
       "VBox(children=(Label(value=' 0.00MB of 0.00MB uploaded (0.00MB deduped)\\r'), FloatProgress(value=1.0, max=1.0)…"
      ]
     },
     "metadata": {},
     "output_type": "display_data"
    },
    {
     "data": {
      "text/html": [
       "Find user logs for this run at: <code>/opt/ml/code/wandb/run-20210829_205004-20wwscwz/logs/debug.log</code>"
      ],
      "text/plain": [
       "<IPython.core.display.HTML object>"
      ]
     },
     "metadata": {},
     "output_type": "display_data"
    },
    {
     "data": {
      "text/html": [
       "Find internal logs for this run at: <code>/opt/ml/code/wandb/run-20210829_205004-20wwscwz/logs/debug-internal.log</code>"
      ],
      "text/plain": [
       "<IPython.core.display.HTML object>"
      ]
     },
     "metadata": {},
     "output_type": "display_data"
    },
    {
     "data": {
      "text/html": [
       "<h3>Run summary:</h3><br/><style>\n",
       "    table.wandb td:nth-child(1) { padding: 0 10px; text-align: right }\n",
       "    </style><table class=\"wandb\">\n",
       "<tr><td>train loss</td><td>0.01501</td></tr><tr><td>train acc</td><td>0.9959</td></tr><tr><td>train f1</td><td>0.99342</td></tr><tr><td>_runtime</td><td>19281</td></tr><tr><td>_timestamp</td><td>1630289485</td></tr><tr><td>_step</td><td>19</td></tr><tr><td>validation loss</td><td>0.49231</td></tr><tr><td>validation acc</td><td>0.87876</td></tr><tr><td>validation f1</td><td>0.64586</td></tr></table>"
      ],
      "text/plain": [
       "<IPython.core.display.HTML object>"
      ]
     },
     "metadata": {},
     "output_type": "display_data"
    },
    {
     "data": {
      "text/html": [
       "<h3>Run history:</h3><br/><style>\n",
       "    table.wandb td:nth-child(1) { padding: 0 10px; text-align: right }\n",
       "    </style><table class=\"wandb\">\n",
       "<tr><td>train loss</td><td>█▃▂▁▁▁▁▁▂▁</td></tr><tr><td>train acc</td><td>▁▆▇█████▇█</td></tr><tr><td>train f1</td><td>▁▅▇█████▇█</td></tr><tr><td>_runtime</td><td>▁▁▂▂▃▃▃▃▄▄▅▅▆▆▆▆▇▇██</td></tr><tr><td>_timestamp</td><td>▁▁▂▂▃▃▃▃▄▄▅▅▆▆▆▆▇▇██</td></tr><tr><td>_step</td><td>▁▁▂▂▂▃▃▄▄▄▅▅▅▆▆▇▇▇██</td></tr><tr><td>validation loss</td><td>▁▁█▃▅▄▃▆▅▃</td></tr><tr><td>validation acc</td><td>▆█▁▇█▇▆▇▆▇</td></tr><tr><td>validation f1</td><td>▆▆▁▅█▆▃▅▅▃</td></tr></table><br/>"
      ],
      "text/plain": [
       "<IPython.core.display.HTML object>"
      ]
     },
     "metadata": {},
     "output_type": "display_data"
    },
    {
     "data": {
      "text/html": [
       "Synced 5 W&B file(s), 0 media file(s), 0 artifact file(s) and 0 other file(s)"
      ],
      "text/plain": [
       "<IPython.core.display.HTML object>"
      ]
     },
     "metadata": {},
     "output_type": "display_data"
    },
    {
     "data": {
      "text/html": [
       "\n",
       "                    <br/>Synced <strong style=\"color:#cdcd00\">twilight-plant-25</strong>: <a href=\"https://wandb.ai/team-34/image-classification-mask/runs/20wwscwz\" target=\"_blank\">https://wandb.ai/team-34/image-classification-mask/runs/20wwscwz</a><br/>\n",
       "                "
      ],
      "text/plain": [
       "<IPython.core.display.HTML object>"
      ]
     },
     "metadata": {},
     "output_type": "display_data"
    }
   ],
   "source": [
    "from tqdm.notebook import tqdm\n",
    "from sklearn.metrics import f1_score\n",
    "\n",
    "### 학습 코드 시작\n",
    "best_test_accuracy = 0.\n",
    "best_test_loss = 9999.\n",
    "seed_everything(seed)\n",
    "for epoch in range(NUM_EPOCH):\n",
    "    for phase in [\"train\", \"validation\"]:\n",
    "        running_loss = 0.\n",
    "        running_acc = 0.\n",
    "        running_f1 = 0.\n",
    "        \n",
    "        if phase == \"train\":\n",
    "            mask_resnet18.train() # 네트워크 모델을 train 모드로 두어 gradient을 계산하고, 여러 sub module (배치 정규화, 드롭아웃 등)이 train mode로 작동할 수 있도록 함\n",
    "        elif phase == \"validation\":\n",
    "            mask_resnet18.eval() # 네트워크 모델을 eval 모드 두어 여러 sub module들이 eval mode로 작동할 수 있게 함\n",
    "\n",
    "        n_iter = 0\n",
    "        for ind, (images, labels) in enumerate(tqdm(dataloaders[phase])):\n",
    "            # (참고.해보기) 현재 tqdm으로 출력되는 것이 단순히 진행 상황 뿐인데 현재 epoch, running_loss와 running_acc을 출력하려면 어떻게 할 수 있는지 tqdm 문서를 보고 해봅시다!\n",
    "            # hint - with, pbar\n",
    "            #print(f'ind : {ind}')\n",
    "            images = images.to(device)\n",
    "            labels = labels.to(device)\n",
    "\n",
    "            optimizer.zero_grad() # parameter gradient를 업데이트 전 초기화함\n",
    "\n",
    "            with torch.set_grad_enabled(phase == \"train\"): # train 모드일 시에는 gradient를 계산하고, 아닐 때는 gradient를 계산하지 않아 연산량 최소화\n",
    "                logits = mask_resnet18(images)\n",
    "                _, preds = torch.max(logits, 1) # 모델에서 linear 값으로 나오는 예측 값 ([0.9,1.2, 3.2,0.1,-0.1,...])을 최대 output index를 찾아 예측 레이블([2])로 변경함  \n",
    "                loss = loss_fn(logits, labels)\n",
    "\n",
    "            if phase == \"train\":\n",
    "                loss.backward() # 모델의 예측 값과 실제 값의 CrossEntropy 차이를 통해 gradient 계산\n",
    "                optimizer.step() # 계산된 gradient를 가지고 모델 업데이트\n",
    "                scheduler.step()\n",
    "\n",
    "            running_loss += loss.item() * images.size(0) # 한 Batch에서의 loss 값 저장\n",
    "            running_acc += torch.sum(preds == labels.data) # 한 Batch에서의 Accuracy 값 저장\n",
    "            running_f1 += f1_score(labels.cpu().numpy(), preds.cpu().numpy(), average='macro')\n",
    "            \n",
    "            n_iter += 1\n",
    "\n",
    "        # 한 epoch이 모두 종료되었을 때,\n",
    "        epoch_loss = running_loss / len(dataloaders[phase].dataset)\n",
    "        epoch_acc = running_acc / len(dataloaders[phase].dataset)\n",
    "        epoch_f1 = running_f1 / n_iter\n",
    "\n",
    "        print(f\"현재 epoch-{epoch}의 {phase}-데이터 셋에서 평균 Loss : {epoch_loss:.3f}, 평균 Accuracy : {epoch_acc:.3f}\")\n",
    "\n",
    "        wandb.log({\n",
    "                f'{phase} loss': epoch_loss,\n",
    "                f'{phase} acc': epoch_acc,\n",
    "                f'{phase} f1': epoch_f1,\n",
    "        })\n",
    "        \n",
    "        if phase == \"validation\" and best_test_accuracy < epoch_acc: # phase가 test일 때, best accuracy 계산\n",
    "            best_test_accuracy = epoch_acc\n",
    "        if phase == \"validation\" and best_test_loss > epoch_loss: # phase가 test일 때, best loss 계산\n",
    "            best_test_loss = epoch_loss\n",
    "            \n",
    "print(\"학습 종료!\")\n",
    "print(f\"최고 accuracy : {best_test_accuracy}, 최고 낮은 loss : {best_test_loss}\")\n",
    "wandb.finish()\n",
    "\n",
    "import os\n",
    "from datetime import datetime as dt\n",
    "save_name = f\"{dt.now().strftime('%Y%m%d%H%M')}_mask.pt\"\n",
    "torch.save(mask_resnet18, os.path.join(save_name))"
   ]
  },
  {
   "cell_type": "code",
   "execution_count": 15,
   "metadata": {},
   "outputs": [
    {
     "name": "stdout",
     "output_type": "stream",
     "text": [
      "Accuracy for class 0     is: 93.5 %\n",
      "Accuracy for class 1     is: 79.5 %\n",
      "Accuracy for class 2     is: 69.4 %\n",
      "Accuracy for class 3     is: 93.1 %\n",
      "Accuracy for class 4     is: 90.0 %\n",
      "Accuracy for class 5     is: 64.5 %\n",
      "Accuracy for class 6     is: 94.5 %\n",
      "Accuracy for class 7     is: 82.9 %\n",
      "Accuracy for class 8     is: 64.7 %\n",
      "Accuracy for class 9     is: 88.4 %\n",
      "Accuracy for class 10    is: 90.2 %\n",
      "Accuracy for class 11    is: 54.5 %\n",
      "Accuracy for class 12    is: 93.6 %\n",
      "Accuracy for class 13    is: 85.4 %\n",
      "Accuracy for class 14    is: 58.8 %\n",
      "Accuracy for class 15    is: 89.8 %\n",
      "Accuracy for class 16    is: 83.5 %\n",
      "Accuracy for class 17    is: 54.5 %\n"
     ]
    }
   ],
   "source": [
    "classes = [str(num) for num in range(18)]\n",
    "\n",
    "correct_pred = {classname: 0 for classname in classes}\n",
    "total_pred = {classname: 0 for classname in classes}\n",
    "\n",
    "# again no gradients needed\n",
    "with torch.no_grad():\n",
    "    for data in validation_loader:\n",
    "        images, labels = data\n",
    "        images = images.to(device)\n",
    "        labels = labels.to(device)\n",
    "        outputs = mask_resnet18(images)\n",
    "        _, predictions = torch.max(outputs, 1)\n",
    "        # collect the correct predictions for each class\n",
    "        for label, prediction in zip(labels, predictions):\n",
    "            if label == prediction:\n",
    "                correct_pred[classes[label]] += 1\n",
    "            total_pred[classes[label]] += 1\n",
    "\n",
    "\n",
    "# print accuracy for each class\n",
    "for classname, correct_count in correct_pred.items():\n",
    "    accuracy = 100 * float(correct_count) / total_pred[classname]\n",
    "    print(\"Accuracy for class {:5s} is: {:.1f} %\".format(classname,\n",
    "                                                   accuracy))"
   ]
  }
 ],
 "metadata": {
  "interpreter": {
   "hash": "98b0a9b7b4eaaa670588a142fd0a9b87eaafe866f1db4228be72b4211d12040f"
  },
  "kernelspec": {
   "display_name": "Python 3 (ipykernel)",
   "language": "python",
   "name": "python3"
  },
  "language_info": {
   "codemirror_mode": {
    "name": "ipython",
    "version": 3
   },
   "file_extension": ".py",
   "mimetype": "text/x-python",
   "name": "python",
   "nbconvert_exporter": "python",
   "pygments_lexer": "ipython3",
   "version": "3.8.5"
  }
 },
 "nbformat": 4,
 "nbformat_minor": 4
}
