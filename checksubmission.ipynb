{
 "cells": [
  {
   "cell_type": "code",
   "execution_count": 3,
   "source": [
    "import pandas as pd\n",
    "\n",
    "submit = pd.read_csv(os.path.join('./Base/output', 'output.csv'))\n",
    "submit[\"ans\"].value_counts()"
   ],
   "outputs": [
    {
     "output_type": "execute_result",
     "data": {
      "text/plain": [
       "3     3140\n",
       "1     2062\n",
       "0     2061\n",
       "4     1333\n",
       "7      510\n",
       "13     465\n",
       "9      445\n",
       "5      417\n",
       "10     416\n",
       "16     392\n",
       "15     361\n",
       "6      330\n",
       "12     268\n",
       "2      185\n",
       "17      69\n",
       "11      58\n",
       "14      52\n",
       "8       36\n",
       "Name: ans, dtype: int64"
      ]
     },
     "metadata": {},
     "execution_count": 3
    }
   ],
   "metadata": {}
  },
  {
   "cell_type": "code",
   "execution_count": 4,
   "source": [
    "import pandas as pd\n",
    "\n",
    "submit = pd.read_csv(os.path.join('./Base/output', 'ResMLP.csv'))\n",
    "submit[\"ans\"].value_counts()"
   ],
   "outputs": [
    {
     "output_type": "execute_result",
     "data": {
      "text/plain": [
       "1     3293\n",
       "4     2659\n",
       "3     2621\n",
       "5      643\n",
       "0      629\n",
       "13     544\n",
       "9      465\n",
       "15     312\n",
       "16     310\n",
       "2      251\n",
       "10     239\n",
       "12     187\n",
       "7      145\n",
       "6      135\n",
       "17      96\n",
       "11      29\n",
       "14      22\n",
       "8       20\n",
       "Name: ans, dtype: int64"
      ]
     },
     "metadata": {},
     "execution_count": 4
    }
   ],
   "metadata": {}
  }
 ],
 "metadata": {
  "orig_nbformat": 4,
  "language_info": {
   "name": "python",
   "version": "3.8.5",
   "mimetype": "text/x-python",
   "codemirror_mode": {
    "name": "ipython",
    "version": 3
   },
   "pygments_lexer": "ipython3",
   "nbconvert_exporter": "python",
   "file_extension": ".py"
  },
  "kernelspec": {
   "name": "python3",
   "display_name": "Python 3.8.5 64-bit ('base': conda)"
  },
  "interpreter": {
   "hash": "98b0a9b7b4eaaa670588a142fd0a9b87eaafe866f1db4228be72b4211d12040f"
  }
 },
 "nbformat": 4,
 "nbformat_minor": 2
}